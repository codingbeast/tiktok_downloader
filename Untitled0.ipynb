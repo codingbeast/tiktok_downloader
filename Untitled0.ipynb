{
  "nbformat": 4,
  "nbformat_minor": 0,
  "metadata": {
    "colab": {
      "name": "Untitled0.ipynb",
      "provenance": [],
      "collapsed_sections": [],
      "mount_file_id": "1ZxdRrM8b7ioOeEGFz7d_90GMukt9gslf",
      "authorship_tag": "ABX9TyNil/K/Kg+Ynn3iu4ZSUnLh",
      "include_colab_link": true
    },
    "kernelspec": {
      "name": "python3",
      "display_name": "Python 3"
    }
  },
  "cells": [
    {
      "cell_type": "markdown",
      "metadata": {
        "id": "view-in-github",
        "colab_type": "text"
      },
      "source": [
        "<a href=\"https://colab.research.google.com/github/raj0kumar00/tiktok_downloader/blob/master/Untitled0.ipynb\" target=\"_parent\"><img src=\"https://colab.research.google.com/assets/colab-badge.svg\" alt=\"Open In Colab\"/></a>"
      ]
    },
    {
      "cell_type": "code",
      "metadata": {
        "id": "6pKU55tLLG_i",
        "colab_type": "code",
        "colab": {}
      },
      "source": [
        "import json\n",
        "import logging\n",
        "logging.getLogger('wptools').setLevel(logging.WARNING)\n",
        "import pprint\n",
        "import re\n",
        "from bs4 import BeautifulSoup\n",
        "import os\n",
        "try:\n",
        "  import wptools\n",
        "except:\n",
        "  os.system(\"pip install wptools\")\n",
        "  import wptools\n",
        "try:\n",
        "  import wikipedia\n",
        "except:\n",
        "  os.system(\"pip install wikipedia\")\n",
        "  import wikipedia\n",
        "import requests\n",
        "import pandas as pd"
      ],
      "execution_count": 0,
      "outputs": []
    },
    {
      "cell_type": "code",
      "metadata": {
        "id": "XI3GS05DLetk",
        "colab_type": "code",
        "colab": {}
      },
      "source": [
        "with open(\"/content/drive/My Drive/wikipedia/db.json\", errors='replace') as dbopner:\n",
        "\tdata = dbopner.read()\n",
        "\tdb = json.loads(data)[1:]\n"
      ],
      "execution_count": 0,
      "outputs": []
    },
    {
      "cell_type": "code",
      "metadata": {
        "id": "C7cXZS-y0Co8",
        "colab_type": "code",
        "outputId": "7df8117b-3145-4abc-e6fb-c3048ba38daa",
        "colab": {
          "base_uri": "https://localhost:8080/",
          "height": 399
        }
      },
      "source": [
        "for country in db:\n",
        "    citys = country['city']\n",
        "    country_url = country['country_url']\n",
        "    gdp_data = gdpscraper(country_url= country_url)\n",
        "    for city in citys:\n",
        "      city_url = city['url']\n",
        "      pop = popscraper(url= city_url)\n",
        "      pop['Country'] = country['name']\n",
        "      pop['GDP'] = gdp_data['gdp']\n",
        "      pop['GDP_Capita'] = gdp_data['gdp_capita']\n",
        "      pop['GDP_Nominal'] = gdp_data['gdp_nominal']\n",
        "      pop['GDP_Nominal_Capita'] = gdp_data['gdp_nominal_capita']\n",
        "      pop['Micro_Resion'] = city['Zone']\n",
        "      print(pop)\n",
        "      break\n",
        "\n",
        " \n",
        "\n",
        "\n",
        "      city_url_name = city_url.split(\"/\")[-1]\n",
        "      city_info_temp = wptools.page(city_url_name).get_parse()\n",
        "      city_infobox = city_info_temp.data['infobox']\n",
        "      region = city_infobox['name']\n",
        "      region_capital = city_infobox['seat'].replace(\"[\",\"\").replace(\"]\",\"\").split(\",\")[0].strip()\n",
        "      population = city_infobox['population_total']\n",
        "      region_area_km = city_infobox['area_total_km2']\n",
        "      print(region)\n",
        "      print(region_capital)\n",
        "      print(population)\n",
        "      print(region_area_km)\n",
        "      print(\"=============================\")\n",
        "      break\n",
        "    break"
      ],
      "execution_count": 74,
      "outputs": [
        {
          "output_type": "stream",
          "text": [
            "en.wikipedia.org (parse) Vietnam\n"
          ],
          "name": "stderr"
        },
        {
          "output_type": "stream",
          "text": [
            "  Province-LevelDivision        Capital  ...  GDP_Nominal_Capita      Micro_Resion\n",
            "0              Điện Biên  Điện Biên Phủ  ...             $2,740   Northern Vietnam\n",
            "1               Hòa Bình  Hòa Bình City  ...             $2,740   Northern Vietnam\n",
            "2               Lai Châu       Lai Châu  ...             $2,740   Northern Vietnam\n",
            "3                 Sơn La         Sơn La  ...             $2,740   Northern Vietnam\n",
            "4                Lào Cai        Lào Cai  ...             $2,740   Northern Vietnam\n",
            "5                Yên Bái        Yên Bái  ...             $2,740   Northern Vietnam\n",
            "\n",
            "[6 rows x 10 columns]\n"
          ],
          "name": "stdout"
        },
        {
          "output_type": "stream",
          "text": [
            "Vietnam (en) data\n",
            "{\n",
            "  infobox: <dict(78)> conventional_long_name, common_name, native_...\n",
            "  iwlinks: <list(18)> https://commons.wikimedia.org/wiki/Atlas_of_...\n",
            "  pageid: 202354\n",
            "  parsetree: <str(658098)> <root><template><title>other uses</titl...\n",
            "  requests: <list(1)> parse\n",
            "  title: Vietnam\n",
            "  wikibase: Q881\n",
            "  wikidata_url: https://www.wikidata.org/wiki/Q881\n",
            "  wikitext: <str(300177)> {{other uses}}{{pp-semi-indef|small=yes}...\n",
            "}\n"
          ],
          "name": "stderr"
        }
      ]
    },
    {
      "cell_type": "code",
      "metadata": {
        "id": "haRSBG7CLfRB",
        "colab_type": "code",
        "colab": {}
      },
      "source": [
        "def gdpscraper(country_url):\n",
        "    country_name = country_url.split(\"/\")[-1]\n",
        "    info_temp = wptools.page(country_name).get_parse()\n",
        "    infobox = info_temp.data['infobox']\n",
        "    try:\n",
        "      Gdp_ppp= re.findall(r\"}}(.*?){{\",infobox['GDP_PPP'])[0]\n",
        "    except:\n",
        "      Gdp_ppp = infobox['GDP_PPP']\n",
        "    try:\n",
        "      Gdp_pp_capita= re.findall(r\"}}(.*?){{\",infobox['GDP_PPP_per_capita'])[0]\n",
        "    except:\n",
        "      Gdp_pp_capita = infobox['GDP_PPP_per_capita']\n",
        "\n",
        "    Gdp_pp_year = infobox['GDP_PPP_year']\n",
        "    try:\n",
        "      Gdp_nominal= re.findall(r\"}}(.*?){{\",infobox['GDP_nominal'])[0]\n",
        "    except:\n",
        "      Gdp_nominal = infobox['GDP_nominal']\n",
        "    try:\n",
        "      Gdp_nominal_capita= re.findall(r\"}}(.*?){{\",infobox['GDP_nominal_per_capita'])[0]\n",
        "    except:\n",
        "      Gdp_nominal_capita = infobox['GDP_nominal_per_capita']\n",
        "    Gdp_nominal_year = infobox['GDP_nominal_year']\n",
        "    final = {\n",
        "             \"cp_name\": country_name,\n",
        "             \"gdp\": Gdp_ppp,\n",
        "             \"gdp_capita\": Gdp_pp_capita,\n",
        "             \"gdp_nominal\": Gdp_nominal,\n",
        "             \"gdp_nominal_capita\": Gdp_nominal_capita\n",
        "    }\n",
        "    return final\n"
      ],
      "execution_count": 0,
      "outputs": []
    },
    {
      "cell_type": "code",
      "metadata": {
        "id": "stdwUjcrxD9m",
        "colab_type": "code",
        "colab": {}
      },
      "source": [
        "def popscraper(url):\n",
        "  page = requests.get(url)\n",
        "  soup = BeautifulSoup(page.content, 'html.parser')\n",
        "  ta = soup.find_all('table',class_=\"wikitable\")[0]\n",
        "  data = pd.read_html(str(ta))[0]\n",
        "  return data"
      ],
      "execution_count": 0,
      "outputs": []
    },
    {
      "cell_type": "code",
      "metadata": {
        "id": "AeFuQv3Vyuvy",
        "colab_type": "code",
        "colab": {
          "base_uri": "https://localhost:8080/",
          "height": 359
        },
        "outputId": "4e57527a-d254-44d1-908e-5bf769a00f5e"
      },
      "source": [
        "pop"
      ],
      "execution_count": 75,
      "outputs": [
        {
          "output_type": "execute_result",
          "data": {
            "text/html": [
              "<div>\n",
              "<style scoped>\n",
              "    .dataframe tbody tr th:only-of-type {\n",
              "        vertical-align: middle;\n",
              "    }\n",
              "\n",
              "    .dataframe tbody tr th {\n",
              "        vertical-align: top;\n",
              "    }\n",
              "\n",
              "    .dataframe thead th {\n",
              "        text-align: right;\n",
              "    }\n",
              "</style>\n",
              "<table border=\"1\" class=\"dataframe\">\n",
              "  <thead>\n",
              "    <tr style=\"text-align: right;\">\n",
              "      <th></th>\n",
              "      <th>Province-LevelDivision</th>\n",
              "      <th>Capital</th>\n",
              "      <th>Population(2019)</th>\n",
              "      <th>Area(km²)</th>\n",
              "      <th>Country</th>\n",
              "      <th>GDP</th>\n",
              "      <th>GDP_Capita</th>\n",
              "      <th>GDP_Nominal</th>\n",
              "      <th>GDP_Nominal_Capita</th>\n",
              "      <th>Micro_Resion</th>\n",
              "    </tr>\n",
              "  </thead>\n",
              "  <tbody>\n",
              "    <tr>\n",
              "      <th>0</th>\n",
              "      <td>Điện Biên</td>\n",
              "      <td>Điện Biên Phủ</td>\n",
              "      <td>567000</td>\n",
              "      <td>9,562.5 km²</td>\n",
              "      <td>Vietnam</td>\n",
              "      <td>$770.227 billion</td>\n",
              "      <td>$8,066</td>\n",
              "      <td>$261.637 billion</td>\n",
              "      <td>$2,740</td>\n",
              "      <td>Northern Vietnam</td>\n",
              "    </tr>\n",
              "    <tr>\n",
              "      <th>1</th>\n",
              "      <td>Hòa Bình</td>\n",
              "      <td>Hòa Bình City</td>\n",
              "      <td>976699</td>\n",
              "      <td>4,684.2 km²</td>\n",
              "      <td>Vietnam</td>\n",
              "      <td>$770.227 billion</td>\n",
              "      <td>$8,066</td>\n",
              "      <td>$261.637 billion</td>\n",
              "      <td>$2,740</td>\n",
              "      <td>Northern Vietnam</td>\n",
              "    </tr>\n",
              "    <tr>\n",
              "      <th>2</th>\n",
              "      <td>Lai Châu</td>\n",
              "      <td>Lai Châu</td>\n",
              "      <td>470510</td>\n",
              "      <td>9,112.3 km²</td>\n",
              "      <td>Vietnam</td>\n",
              "      <td>$770.227 billion</td>\n",
              "      <td>$8,066</td>\n",
              "      <td>$261.637 billion</td>\n",
              "      <td>$2,740</td>\n",
              "      <td>Northern Vietnam</td>\n",
              "    </tr>\n",
              "    <tr>\n",
              "      <th>3</th>\n",
              "      <td>Sơn La</td>\n",
              "      <td>Sơn La</td>\n",
              "      <td>1195107</td>\n",
              "      <td>14,174.4 km²</td>\n",
              "      <td>Vietnam</td>\n",
              "      <td>$770.227 billion</td>\n",
              "      <td>$8,066</td>\n",
              "      <td>$261.637 billion</td>\n",
              "      <td>$2,740</td>\n",
              "      <td>Northern Vietnam</td>\n",
              "    </tr>\n",
              "    <tr>\n",
              "      <th>4</th>\n",
              "      <td>Lào Cai</td>\n",
              "      <td>Lào Cai</td>\n",
              "      <td>701706</td>\n",
              "      <td>6,357 km²</td>\n",
              "      <td>Vietnam</td>\n",
              "      <td>$770.227 billion</td>\n",
              "      <td>$8,066</td>\n",
              "      <td>$261.637 billion</td>\n",
              "      <td>$2,740</td>\n",
              "      <td>Northern Vietnam</td>\n",
              "    </tr>\n",
              "    <tr>\n",
              "      <th>5</th>\n",
              "      <td>Yên Bái</td>\n",
              "      <td>Yên Bái</td>\n",
              "      <td>809248</td>\n",
              "      <td>6,882.9 km²</td>\n",
              "      <td>Vietnam</td>\n",
              "      <td>$770.227 billion</td>\n",
              "      <td>$8,066</td>\n",
              "      <td>$261.637 billion</td>\n",
              "      <td>$2,740</td>\n",
              "      <td>Northern Vietnam</td>\n",
              "    </tr>\n",
              "  </tbody>\n",
              "</table>\n",
              "</div>"
            ],
            "text/plain": [
              "  Province-LevelDivision        Capital  ...  GDP_Nominal_Capita      Micro_Resion\n",
              "0              Điện Biên  Điện Biên Phủ  ...             $2,740   Northern Vietnam\n",
              "1               Hòa Bình  Hòa Bình City  ...             $2,740   Northern Vietnam\n",
              "2               Lai Châu       Lai Châu  ...             $2,740   Northern Vietnam\n",
              "3                 Sơn La         Sơn La  ...             $2,740   Northern Vietnam\n",
              "4                Lào Cai        Lào Cai  ...             $2,740   Northern Vietnam\n",
              "5                Yên Bái        Yên Bái  ...             $2,740   Northern Vietnam\n",
              "\n",
              "[6 rows x 10 columns]"
            ]
          },
          "metadata": {
            "tags": []
          },
          "execution_count": 75
        }
      ]
    },
    {
      "cell_type": "code",
      "metadata": {
        "id": "c1iMbXHN1dcL",
        "colab_type": "code",
        "colab": {}
      },
      "source": [
        "a=\"nice raj kumar\""
      ],
      "execution_count": 0,
      "outputs": []
    },
    {
      "cell_type": "code",
      "metadata": {
        "id": "WuKU8RNM2Azh",
        "colab_type": "code",
        "colab": {
          "base_uri": "https://localhost:8080/",
          "height": 34
        },
        "outputId": "f70cedff-381b-41ed-ba7a-07baae8a9495"
      },
      "source": [
        "re.findall(\"nice(.*?)kumar\",a)[0]"
      ],
      "execution_count": 57,
      "outputs": [
        {
          "output_type": "execute_result",
          "data": {
            "text/plain": [
              "[' raj ']"
            ]
          },
          "metadata": {
            "tags": []
          },
          "execution_count": 57
        }
      ]
    },
    {
      "cell_type": "code",
      "metadata": {
        "id": "4bajlsNv2HSl",
        "colab_type": "code",
        "colab": {}
      },
      "source": [
        ""
      ],
      "execution_count": 0,
      "outputs": []
    }
  ]
}